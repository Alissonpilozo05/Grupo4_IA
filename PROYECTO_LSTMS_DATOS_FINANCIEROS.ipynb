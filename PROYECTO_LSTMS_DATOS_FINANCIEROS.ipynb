{
  "nbformat": 4,
  "nbformat_minor": 0,
  "metadata": {
    "colab": {
      "provenance": []
    },
    "kernelspec": {
      "name": "python3",
      "display_name": "Python 3"
    },
    "language_info": {
      "name": "python"
    }
  },
  "cells": [
    {
      "cell_type": "markdown",
      "source": [
        "##**Meta Finanzas datos históricos 2017- 2023 de las Empesas de Ecuador**"
      ],
      "metadata": {
        "id": "9gAMoaamPwOt"
      }
    },
    {
      "cell_type": "markdown",
      "source": [
        "**Librerias necesarias**"
      ],
      "metadata": {
        "id": "YV7_WhiKfZQ6"
      }
    },
    {
      "cell_type": "code",
      "source": [
        "import numpy as np\n",
        "import pandas as pd\n",
        "import matplotlib.pyplot as plt"
      ],
      "metadata": {
        "id": "UioyoqmofX7U"
      },
      "execution_count": null,
      "outputs": []
    },
    {
      "cell_type": "markdown",
      "source": [
        "**Conectamos con Drive**"
      ],
      "metadata": {
        "id": "9n4Xeh9piP5p"
      }
    },
    {
      "cell_type": "code",
      "source": [
        "from google.colab import drive\n",
        "drive.mount('/content/drive')"
      ],
      "metadata": {
        "id": "5_U3kcc5QXS_",
        "colab": {
          "base_uri": "https://localhost:8080/"
        },
        "outputId": "015c56ac-e801-4c97-d72b-0fd2b142124b"
      },
      "execution_count": null,
      "outputs": [
        {
          "output_type": "stream",
          "name": "stdout",
          "text": [
            "Drive already mounted at /content/drive; to attempt to forcibly remount, call drive.mount(\"/content/drive\", force_remount=True).\n"
          ]
        }
      ]
    },
    {
      "cell_type": "markdown",
      "source": [
        "**Importamos los datos financieros de los años 2017- 2023**"
      ],
      "metadata": {
        "id": "VCPC-De4iYaQ"
      }
    },
    {
      "cell_type": "code",
      "source": [
        "import pandas as pd\n",
        "df = pd.read_csv('/content/drive/MyDrive/Grupo_4IA/Datos Financieros Historicos.csv', index_col = 'Date', parse_dates=True)\n",
        "df"
      ],
      "metadata": {
        "id": "PSIHfWL23fBi",
        "colab": {
          "base_uri": "https://localhost:8080/",
          "height": 455
        },
        "outputId": "2b38b5db-1749-4e44-c8a4-42d113945011"
      },
      "execution_count": null,
      "outputs": [
        {
          "output_type": "execute_result",
          "data": {
            "text/plain": [
              "                 Open       High        Low      Close    Volume\n",
              "Date                                                            \n",
              "2017-03-13   65010002   65190002   64570000   64709999  20100000\n",
              "2017-03-14   64529999   64550003   64150002   64410004  14280200\n",
              "2017-03-15   64550003   64919998   64250000   64750000  24833800\n",
              "2017-03-16   64750000   64760002   64300003   64639999  20674300\n",
              "2017-03-17   64910004   65239998   64680000   64870003  49219700\n",
              "...               ...        ...        ...        ...       ...\n",
              "2023-03-06  256429993  260119995  255979996  256869995  24109800\n",
              "2023-03-07  256299988  257690002  253389999  254149994  21473200\n",
              "2023-03-08  254039993  254539993  250809998  253699997  17340200\n",
              "2023-03-09  255820007  259559998  251580002  252320007  26653400\n",
              "2023-03-10  251080002  252789993  247600006  248589996  28321800\n",
              "\n",
              "[1510 rows x 5 columns]"
            ],
            "text/html": [
              "\n",
              "  <div id=\"df-d477d295-169a-499e-9fd8-3a9d03fdbaef\">\n",
              "    <div class=\"colab-df-container\">\n",
              "      <div>\n",
              "<style scoped>\n",
              "    .dataframe tbody tr th:only-of-type {\n",
              "        vertical-align: middle;\n",
              "    }\n",
              "\n",
              "    .dataframe tbody tr th {\n",
              "        vertical-align: top;\n",
              "    }\n",
              "\n",
              "    .dataframe thead th {\n",
              "        text-align: right;\n",
              "    }\n",
              "</style>\n",
              "<table border=\"1\" class=\"dataframe\">\n",
              "  <thead>\n",
              "    <tr style=\"text-align: right;\">\n",
              "      <th></th>\n",
              "      <th>Open</th>\n",
              "      <th>High</th>\n",
              "      <th>Low</th>\n",
              "      <th>Close</th>\n",
              "      <th>Volume</th>\n",
              "    </tr>\n",
              "    <tr>\n",
              "      <th>Date</th>\n",
              "      <th></th>\n",
              "      <th></th>\n",
              "      <th></th>\n",
              "      <th></th>\n",
              "      <th></th>\n",
              "    </tr>\n",
              "  </thead>\n",
              "  <tbody>\n",
              "    <tr>\n",
              "      <th>2017-03-13</th>\n",
              "      <td>65010002</td>\n",
              "      <td>65190002</td>\n",
              "      <td>64570000</td>\n",
              "      <td>64709999</td>\n",
              "      <td>20100000</td>\n",
              "    </tr>\n",
              "    <tr>\n",
              "      <th>2017-03-14</th>\n",
              "      <td>64529999</td>\n",
              "      <td>64550003</td>\n",
              "      <td>64150002</td>\n",
              "      <td>64410004</td>\n",
              "      <td>14280200</td>\n",
              "    </tr>\n",
              "    <tr>\n",
              "      <th>2017-03-15</th>\n",
              "      <td>64550003</td>\n",
              "      <td>64919998</td>\n",
              "      <td>64250000</td>\n",
              "      <td>64750000</td>\n",
              "      <td>24833800</td>\n",
              "    </tr>\n",
              "    <tr>\n",
              "      <th>2017-03-16</th>\n",
              "      <td>64750000</td>\n",
              "      <td>64760002</td>\n",
              "      <td>64300003</td>\n",
              "      <td>64639999</td>\n",
              "      <td>20674300</td>\n",
              "    </tr>\n",
              "    <tr>\n",
              "      <th>2017-03-17</th>\n",
              "      <td>64910004</td>\n",
              "      <td>65239998</td>\n",
              "      <td>64680000</td>\n",
              "      <td>64870003</td>\n",
              "      <td>49219700</td>\n",
              "    </tr>\n",
              "    <tr>\n",
              "      <th>...</th>\n",
              "      <td>...</td>\n",
              "      <td>...</td>\n",
              "      <td>...</td>\n",
              "      <td>...</td>\n",
              "      <td>...</td>\n",
              "    </tr>\n",
              "    <tr>\n",
              "      <th>2023-03-06</th>\n",
              "      <td>256429993</td>\n",
              "      <td>260119995</td>\n",
              "      <td>255979996</td>\n",
              "      <td>256869995</td>\n",
              "      <td>24109800</td>\n",
              "    </tr>\n",
              "    <tr>\n",
              "      <th>2023-03-07</th>\n",
              "      <td>256299988</td>\n",
              "      <td>257690002</td>\n",
              "      <td>253389999</td>\n",
              "      <td>254149994</td>\n",
              "      <td>21473200</td>\n",
              "    </tr>\n",
              "    <tr>\n",
              "      <th>2023-03-08</th>\n",
              "      <td>254039993</td>\n",
              "      <td>254539993</td>\n",
              "      <td>250809998</td>\n",
              "      <td>253699997</td>\n",
              "      <td>17340200</td>\n",
              "    </tr>\n",
              "    <tr>\n",
              "      <th>2023-03-09</th>\n",
              "      <td>255820007</td>\n",
              "      <td>259559998</td>\n",
              "      <td>251580002</td>\n",
              "      <td>252320007</td>\n",
              "      <td>26653400</td>\n",
              "    </tr>\n",
              "    <tr>\n",
              "      <th>2023-03-10</th>\n",
              "      <td>251080002</td>\n",
              "      <td>252789993</td>\n",
              "      <td>247600006</td>\n",
              "      <td>248589996</td>\n",
              "      <td>28321800</td>\n",
              "    </tr>\n",
              "  </tbody>\n",
              "</table>\n",
              "<p>1510 rows × 5 columns</p>\n",
              "</div>\n",
              "      <button class=\"colab-df-convert\" onclick=\"convertToInteractive('df-d477d295-169a-499e-9fd8-3a9d03fdbaef')\"\n",
              "              title=\"Convert this dataframe to an interactive table.\"\n",
              "              style=\"display:none;\">\n",
              "        \n",
              "  <svg xmlns=\"http://www.w3.org/2000/svg\" height=\"24px\"viewBox=\"0 0 24 24\"\n",
              "       width=\"24px\">\n",
              "    <path d=\"M0 0h24v24H0V0z\" fill=\"none\"/>\n",
              "    <path d=\"M18.56 5.44l.94 2.06.94-2.06 2.06-.94-2.06-.94-.94-2.06-.94 2.06-2.06.94zm-11 1L8.5 8.5l.94-2.06 2.06-.94-2.06-.94L8.5 2.5l-.94 2.06-2.06.94zm10 10l.94 2.06.94-2.06 2.06-.94-2.06-.94-.94-2.06-.94 2.06-2.06.94z\"/><path d=\"M17.41 7.96l-1.37-1.37c-.4-.4-.92-.59-1.43-.59-.52 0-1.04.2-1.43.59L10.3 9.45l-7.72 7.72c-.78.78-.78 2.05 0 2.83L4 21.41c.39.39.9.59 1.41.59.51 0 1.02-.2 1.41-.59l7.78-7.78 2.81-2.81c.8-.78.8-2.07 0-2.86zM5.41 20L4 18.59l7.72-7.72 1.47 1.35L5.41 20z\"/>\n",
              "  </svg>\n",
              "      </button>\n",
              "      \n",
              "  <style>\n",
              "    .colab-df-container {\n",
              "      display:flex;\n",
              "      flex-wrap:wrap;\n",
              "      gap: 12px;\n",
              "    }\n",
              "\n",
              "    .colab-df-convert {\n",
              "      background-color: #E8F0FE;\n",
              "      border: none;\n",
              "      border-radius: 50%;\n",
              "      cursor: pointer;\n",
              "      display: none;\n",
              "      fill: #1967D2;\n",
              "      height: 32px;\n",
              "      padding: 0 0 0 0;\n",
              "      width: 32px;\n",
              "    }\n",
              "\n",
              "    .colab-df-convert:hover {\n",
              "      background-color: #E2EBFA;\n",
              "      box-shadow: 0px 1px 2px rgba(60, 64, 67, 0.3), 0px 1px 3px 1px rgba(60, 64, 67, 0.15);\n",
              "      fill: #174EA6;\n",
              "    }\n",
              "\n",
              "    [theme=dark] .colab-df-convert {\n",
              "      background-color: #3B4455;\n",
              "      fill: #D2E3FC;\n",
              "    }\n",
              "\n",
              "    [theme=dark] .colab-df-convert:hover {\n",
              "      background-color: #434B5C;\n",
              "      box-shadow: 0px 1px 3px 1px rgba(0, 0, 0, 0.15);\n",
              "      filter: drop-shadow(0px 1px 2px rgba(0, 0, 0, 0.3));\n",
              "      fill: #FFFFFF;\n",
              "    }\n",
              "  </style>\n",
              "\n",
              "      <script>\n",
              "        const buttonEl =\n",
              "          document.querySelector('#df-d477d295-169a-499e-9fd8-3a9d03fdbaef button.colab-df-convert');\n",
              "        buttonEl.style.display =\n",
              "          google.colab.kernel.accessAllowed ? 'block' : 'none';\n",
              "\n",
              "        async function convertToInteractive(key) {\n",
              "          const element = document.querySelector('#df-d477d295-169a-499e-9fd8-3a9d03fdbaef');\n",
              "          const dataTable =\n",
              "            await google.colab.kernel.invokeFunction('convertToInteractive',\n",
              "                                                     [key], {});\n",
              "          if (!dataTable) return;\n",
              "\n",
              "          const docLinkHtml = 'Like what you see? Visit the ' +\n",
              "            '<a target=\"_blank\" href=https://colab.research.google.com/notebooks/data_table.ipynb>data table notebook</a>'\n",
              "            + ' to learn more about interactive tables.';\n",
              "          element.innerHTML = '';\n",
              "          dataTable['output_type'] = 'display_data';\n",
              "          await google.colab.output.renderOutput(dataTable, element);\n",
              "          const docLink = document.createElement('div');\n",
              "          docLink.innerHTML = docLinkHtml;\n",
              "          element.appendChild(docLink);\n",
              "        }\n",
              "      </script>\n",
              "    </div>\n",
              "  </div>\n",
              "  "
            ]
          },
          "metadata": {},
          "execution_count": 241
        }
      ]
    },
    {
      "cell_type": "markdown",
      "source": [
        "**Visualizamos Volumen de Rentabilidad Financiera años 2017- 2023**"
      ],
      "metadata": {
        "id": "0gLraubzikEG"
      }
    },
    {
      "cell_type": "code",
      "source": [
        "plt.style.use('ggplot')\n",
        "df['Volume'].plot(label='CLOSE',title='Rentabilidad Financieras de Ecuador 2017-2023')"
      ],
      "metadata": {
        "colab": {
          "base_uri": "https://localhost:8080/",
          "height": 306
        },
        "id": "arJXhQQ5VMn4",
        "outputId": "f451e16f-6d69-4822-9aad-2a732fbe0c2d"
      },
      "execution_count": null,
      "outputs": [
        {
          "output_type": "execute_result",
          "data": {
            "text/plain": [
              "<AxesSubplot:title={'center':'Rentabilidad Financieras de Ecuador 2017-2023'}, xlabel='Date'>"
            ]
          },
          "metadata": {},
          "execution_count": 242
        },
        {
          "output_type": "display_data",
          "data": {
            "text/plain": [
              "<Figure size 432x288 with 1 Axes>"
            ],
            "image/png": "[encoded data removed]"
          },
          "metadata": {}
        }
      ]
    },
    {
      "cell_type": "code",
      "source": [
        "x_rawVS = df.iloc[:,:-1]\n",
        "y_rawVS = df.iloc[:,4:6]"
      ],
      "metadata": {
        "id": "96SdNL_Ui6cr"
      },
      "execution_count": null,
      "outputs": []
    },
    {
      "cell_type": "code",
      "source": [
        "x_rawVS.head(3)"
      ],
      "metadata": {
        "colab": {
          "base_uri": "https://localhost:8080/",
          "height": 175
        },
        "id": "-v60bvisjqsf",
        "outputId": "bbe98ae6-7eb1-4f86-a765-6adc62093cd1"
      },
      "execution_count": null,
      "outputs": [
        {
          "output_type": "execute_result",
          "data": {
            "text/plain": [
              "                Open      High       Low     Close\n",
              "Date                                              \n",
              "2017-03-13  65010002  65190002  64570000  64709999\n",
              "2017-03-14  64529999  64550003  64150002  64410004\n",
              "2017-03-15  64550003  64919998  64250000  64750000"
            ],
            "text/html": [
              "\n",
              "  <div id=\"df-960babf6-80fb-471f-bc7a-5dfc15b48226\">\n",
              "    <div class=\"colab-df-container\">\n",
              "      <div>\n",
              "<style scoped>\n",
              "    .dataframe tbody tr th:only-of-type {\n",
              "        vertical-align: middle;\n",
              "    }\n",
              "\n",
              "    .dataframe tbody tr th {\n",
              "        vertical-align: top;\n",
              "    }\n",
              "\n",
              "    .dataframe thead th {\n",
              "        text-align: right;\n",
              "    }\n",
              "</style>\n",
              "<table border=\"1\" class=\"dataframe\">\n",
              "  <thead>\n",
              "    <tr style=\"text-align: right;\">\n",
              "      <th></th>\n",
              "      <th>Open</th>\n",
              "      <th>High</th>\n",
              "      <th>Low</th>\n",
              "      <th>Close</th>\n",
              "    </tr>\n",
              "    <tr>\n",
              "      <th>Date</th>\n",
              "      <th></th>\n",
              "      <th></th>\n",
              "      <th></th>\n",
              "      <th></th>\n",
              "    </tr>\n",
              "  </thead>\n",
              "  <tbody>\n",
              "    <tr>\n",
              "      <th>2017-03-13</th>\n",
              "      <td>65010002</td>\n",
              "      <td>65190002</td>\n",
              "      <td>64570000</td>\n",
              "      <td>64709999</td>\n",
              "    </tr>\n",
              "    <tr>\n",
              "      <th>2017-03-14</th>\n",
              "      <td>64529999</td>\n",
              "      <td>64550003</td>\n",
              "      <td>64150002</td>\n",
              "      <td>64410004</td>\n",
              "    </tr>\n",
              "    <tr>\n",
              "      <th>2017-03-15</th>\n",
              "      <td>64550003</td>\n",
              "      <td>64919998</td>\n",
              "      <td>64250000</td>\n",
              "      <td>64750000</td>\n",
              "    </tr>\n",
              "  </tbody>\n",
              "</table>\n",
              "</div>\n",
              "      <button class=\"colab-df-convert\" onclick=\"convertToInteractive('df-960babf6-80fb-471f-bc7a-5dfc15b48226')\"\n",
              "              title=\"Convert this dataframe to an interactive table.\"\n",
              "              style=\"display:none;\">\n",
              "        \n",
              "  <svg xmlns=\"http://www.w3.org/2000/svg\" height=\"24px\"viewBox=\"0 0 24 24\"\n",
              "       width=\"24px\">\n",
              "    <path d=\"M0 0h24v24H0V0z\" fill=\"none\"/>\n",
              "    <path d=\"M18.56 5.44l.94 2.06.94-2.06 2.06-.94-2.06-.94-.94-2.06-.94 2.06-2.06.94zm-11 1L8.5 8.5l.94-2.06 2.06-.94-2.06-.94L8.5 2.5l-.94 2.06-2.06.94zm10 10l.94 2.06.94-2.06 2.06-.94-2.06-.94-.94-2.06-.94 2.06-2.06.94z\"/><path d=\"M17.41 7.96l-1.37-1.37c-.4-.4-.92-.59-1.43-.59-.52 0-1.04.2-1.43.59L10.3 9.45l-7.72 7.72c-.78.78-.78 2.05 0 2.83L4 21.41c.39.39.9.59 1.41.59.51 0 1.02-.2 1.41-.59l7.78-7.78 2.81-2.81c.8-.78.8-2.07 0-2.86zM5.41 20L4 18.59l7.72-7.72 1.47 1.35L5.41 20z\"/>\n",
              "  </svg>\n",
              "      </button>\n",
              "      \n",
              "  <style>\n",
              "    .colab-df-container {\n",
              "      display:flex;\n",
              "      flex-wrap:wrap;\n",
              "      gap: 12px;\n",
              "    }\n",
              "\n",
              "    .colab-df-convert {\n",
              "      background-color: #E8F0FE;\n",
              "      border: none;\n",
              "      border-radius: 50%;\n",
              "      cursor: pointer;\n",
              "      display: none;\n",
              "      fill: #1967D2;\n",
              "      height: 32px;\n",
              "      padding: 0 0 0 0;\n",
              "      width: 32px;\n",
              "    }\n",
              "\n",
              "    .colab-df-convert:hover {\n",
              "      background-color: #E2EBFA;\n",
              "      box-shadow: 0px 1px 2px rgba(60, 64, 67, 0.3), 0px 1px 3px 1px rgba(60, 64, 67, 0.15);\n",
              "      fill: #174EA6;\n",
              "    }\n",
              "\n",
              "    [theme=dark] .colab-df-convert {\n",
              "      background-color: #3B4455;\n",
              "      fill: #D2E3FC;\n",
              "    }\n",
              "\n",
              "    [theme=dark] .colab-df-convert:hover {\n",
              "      background-color: #434B5C;\n",
              "      box-shadow: 0px 1px 3px 1px rgba(0, 0, 0, 0.15);\n",
              "      filter: drop-shadow(0px 1px 2px rgba(0, 0, 0, 0.3));\n",
              "      fill: #FFFFFF;\n",
              "    }\n",
              "  </style>\n",
              "\n",
              "      <script>\n",
              "        const buttonEl =\n",
              "          document.querySelector('#df-960babf6-80fb-471f-bc7a-5dfc15b48226 button.colab-df-convert');\n",
              "        buttonEl.style.display =\n",
              "          google.colab.kernel.accessAllowed ? 'block' : 'none';\n",
              "\n",
              "        async function convertToInteractive(key) {\n",
              "          const element = document.querySelector('#df-960babf6-80fb-471f-bc7a-5dfc15b48226');\n",
              "          const dataTable =\n",
              "            await google.colab.kernel.invokeFunction('convertToInteractive',\n",
              "                                                     [key], {});\n",
              "          if (!dataTable) return;\n",
              "\n",
              "          const docLinkHtml = 'Like what you see? Visit the ' +\n",
              "            '<a target=\"_blank\" href=https://colab.research.google.com/notebooks/data_table.ipynb>data table notebook</a>'\n",
              "            + ' to learn more about interactive tables.';\n",
              "          element.innerHTML = '';\n",
              "          dataTable['output_type'] = 'display_data';\n",
              "          await google.colab.output.renderOutput(dataTable, element);\n",
              "          const docLink = document.createElement('div');\n",
              "          docLink.innerHTML = docLinkHtml;\n",
              "          element.appendChild(docLink);\n",
              "        }\n",
              "      </script>\n",
              "    </div>\n",
              "  </div>\n",
              "  "
            ]
          },
          "metadata": {},
          "execution_count": 244
        }
      ]
    },
    {
      "cell_type": "code",
      "source": [
        "y_rawVS.head(3)"
      ],
      "metadata": {
        "colab": {
          "base_uri": "https://localhost:8080/",
          "height": 175
        },
        "id": "J2dLTM8Wj0Uf",
        "outputId": "bad5d043-a1e0-43c1-ef6b-fa4b201415d9"
      },
      "execution_count": null,
      "outputs": [
        {
          "output_type": "execute_result",
          "data": {
            "text/plain": [
              "              Volume\n",
              "Date                \n",
              "2017-03-13  20100000\n",
              "2017-03-14  14280200\n",
              "2017-03-15  24833800"
            ],
            "text/html": [
              "\n",
              "  <div id=\"df-fd614803-a755-4ae8-80bf-77c6943a0220\">\n",
              "    <div class=\"colab-df-container\">\n",
              "      <div>\n",
              "<style scoped>\n",
              "    .dataframe tbody tr th:only-of-type {\n",
              "        vertical-align: middle;\n",
              "    }\n",
              "\n",
              "    .dataframe tbody tr th {\n",
              "        vertical-align: top;\n",
              "    }\n",
              "\n",
              "    .dataframe thead th {\n",
              "        text-align: right;\n",
              "    }\n",
              "</style>\n",
              "<table border=\"1\" class=\"dataframe\">\n",
              "  <thead>\n",
              "    <tr style=\"text-align: right;\">\n",
              "      <th></th>\n",
              "      <th>Volume</th>\n",
              "    </tr>\n",
              "    <tr>\n",
              "      <th>Date</th>\n",
              "      <th></th>\n",
              "    </tr>\n",
              "  </thead>\n",
              "  <tbody>\n",
              "    <tr>\n",
              "      <th>2017-03-13</th>\n",
              "      <td>20100000</td>\n",
              "    </tr>\n",
              "    <tr>\n",
              "      <th>2017-03-14</th>\n",
              "      <td>14280200</td>\n",
              "    </tr>\n",
              "    <tr>\n",
              "      <th>2017-03-15</th>\n",
              "      <td>24833800</td>\n",
              "    </tr>\n",
              "  </tbody>\n",
              "</table>\n",
              "</div>\n",
              "      <button class=\"colab-df-convert\" onclick=\"convertToInteractive('df-fd614803-a755-4ae8-80bf-77c6943a0220')\"\n",
              "              title=\"Convert this dataframe to an interactive table.\"\n",
              "              style=\"display:none;\">\n",
              "        \n",
              "  <svg xmlns=\"http://www.w3.org/2000/svg\" height=\"24px\"viewBox=\"0 0 24 24\"\n",
              "       width=\"24px\">\n",
              "    <path d=\"M0 0h24v24H0V0z\" fill=\"none\"/>\n",
              "    <path d=\"M18.56 5.44l.94 2.06.94-2.06 2.06-.94-2.06-.94-.94-2.06-.94 2.06-2.06.94zm-11 1L8.5 8.5l.94-2.06 2.06-.94-2.06-.94L8.5 2.5l-.94 2.06-2.06.94zm10 10l.94 2.06.94-2.06 2.06-.94-2.06-.94-.94-2.06-.94 2.06-2.06.94z\"/><path d=\"M17.41 7.96l-1.37-1.37c-.4-.4-.92-.59-1.43-.59-.52 0-1.04.2-1.43.59L10.3 9.45l-7.72 7.72c-.78.78-.78 2.05 0 2.83L4 21.41c.39.39.9.59 1.41.59.51 0 1.02-.2 1.41-.59l7.78-7.78 2.81-2.81c.8-.78.8-2.07 0-2.86zM5.41 20L4 18.59l7.72-7.72 1.47 1.35L5.41 20z\"/>\n",
              "  </svg>\n",
              "      </button>\n",
              "      \n",
              "  <style>\n",
              "    .colab-df-container {\n",
              "      display:flex;\n",
              "      flex-wrap:wrap;\n",
              "      gap: 12px;\n",
              "    }\n",
              "\n",
              "    .colab-df-convert {\n",
              "      background-color: #E8F0FE;\n",
              "      border: none;\n",
              "      border-radius: 50%;\n",
              "      cursor: pointer;\n",
              "      display: none;\n",
              "      fill: #1967D2;\n",
              "      height: 32px;\n",
              "      padding: 0 0 0 0;\n",
              "      width: 32px;\n",
              "    }\n",
              "\n",
              "    .colab-df-convert:hover {\n",
              "      background-color: #E2EBFA;\n",
              "      box-shadow: 0px 1px 2px rgba(60, 64, 67, 0.3), 0px 1px 3px 1px rgba(60, 64, 67, 0.15);\n",
              "      fill: #174EA6;\n",
              "    }\n",
              "\n",
              "    [theme=dark] .colab-df-convert {\n",
              "      background-color: #3B4455;\n",
              "      fill: #D2E3FC;\n",
              "    }\n",
              "\n",
              "    [theme=dark] .colab-df-convert:hover {\n",
              "      background-color: #434B5C;\n",
              "      box-shadow: 0px 1px 3px 1px rgba(0, 0, 0, 0.15);\n",
              "      filter: drop-shadow(0px 1px 2px rgba(0, 0, 0, 0.3));\n",
              "      fill: #FFFFFF;\n",
              "    }\n",
              "  </style>\n",
              "\n",
              "      <script>\n",
              "        const buttonEl =\n",
              "          document.querySelector('#df-fd614803-a755-4ae8-80bf-77c6943a0220 button.colab-df-convert');\n",
              "        buttonEl.style.display =\n",
              "          google.colab.kernel.accessAllowed ? 'block' : 'none';\n",
              "\n",
              "        async function convertToInteractive(key) {\n",
              "          const element = document.querySelector('#df-fd614803-a755-4ae8-80bf-77c6943a0220');\n",
              "          const dataTable =\n",
              "            await google.colab.kernel.invokeFunction('convertToInteractive',\n",
              "                                                     [key], {});\n",
              "          if (!dataTable) return;\n",
              "\n",
              "          const docLinkHtml = 'Like what you see? Visit the ' +\n",
              "            '<a target=\"_blank\" href=https://colab.research.google.com/notebooks/data_table.ipynb>data table notebook</a>'\n",
              "            + ' to learn more about interactive tables.';\n",
              "          element.innerHTML = '';\n",
              "          dataTable['output_type'] = 'display_data';\n",
              "          await google.colab.output.renderOutput(dataTable, element);\n",
              "          const docLink = document.createElement('div');\n",
              "          docLink.innerHTML = docLinkHtml;\n",
              "          element.appendChild(docLink);\n",
              "        }\n",
              "      </script>\n",
              "    </div>\n",
              "  </div>\n",
              "  "
            ]
          },
          "metadata": {},
          "execution_count": 245
        }
      ]
    },
    {
      "cell_type": "code",
      "source": [
        "from sklearn.preprocessing import StandardScaler, MinMaxScaler\n",
        "ss = StandardScaler()\n",
        "mm = MinMaxScaler()"
      ],
      "metadata": {
        "id": "jofqBnuVZhUo"
      },
      "execution_count": null,
      "outputs": []
    },
    {
      "cell_type": "code",
      "source": [
        "X = ss.fit_transform(x_rawVS)\n",
        "y = mm.fit_transform(y_rawVS)"
      ],
      "metadata": {
        "id": "z85bG41tZmgG"
      },
      "execution_count": null,
      "outputs": []
    },
    {
      "cell_type": "code",
      "source": [
        "X_train =  X[:200,:]\n",
        "X_test = X[200:,:]\n",
        "y_train = y[:200,:]\n",
        "y_test = y[200:,:]"
      ],
      "metadata": {
        "id": "3AqUGuW8uEM8"
      },
      "execution_count": null,
      "outputs": []
    },
    {
      "cell_type": "code",
      "source": [
        "print(\"Training Shape\", X_train.shape, y_train.shape)\n",
        "print(\"Testing Shape\", X_test.shape, y_test.shape) "
      ],
      "metadata": {
        "id": "ZUfClcxeuMws",
        "colab": {
          "base_uri": "https://localhost:8080/"
        },
        "outputId": "4256eefb-a256-4374-ec88-cc3be9845cd7"
      },
      "execution_count": null,
      "outputs": [
        {
          "output_type": "stream",
          "name": "stdout",
          "text": [
            "Training Shape (200, 4) (200, 1)\n",
            "Testing Shape (1310, 4) (1310, 1)\n"
          ]
        }
      ]
    },
    {
      "cell_type": "code",
      "source": [
        "import torch\n",
        "import torch.nn as nn\n",
        "from torch.autograd import Variable "
      ],
      "metadata": {
        "id": "yAZ9dngzuQ2-"
      },
      "execution_count": null,
      "outputs": []
    },
    {
      "cell_type": "code",
      "source": [
        "X_train_tensors = Variable(torch.Tensor(X_train))\n",
        "X_test_tensors = Variable(torch.Tensor(X_test))\n",
        "\n",
        "y_train_tensors = Variable(torch.Tensor(y_train))\n",
        "y_test_tensors = Variable(torch.Tensor(y_test))"
      ],
      "metadata": {
        "id": "cPpk4oLYuVbF"
      },
      "execution_count": null,
      "outputs": []
    },
    {
      "cell_type": "code",
      "source": [
        "X_train_tensors_final = torch.reshape(X_train_tensors,   (X_train_tensors.shape[0], 1, X_train_tensors.shape[1]))\n",
        "X_test_tensors_final = torch.reshape(X_test_tensors,  (X_test_tensors.shape[0], 1, X_test_tensors.shape[1]))"
      ],
      "metadata": {
        "id": "a3s5gcIouZrM"
      },
      "execution_count": null,
      "outputs": []
    },
    {
      "cell_type": "code",
      "source": [
        "print(\"Training Shape\", X_train_tensors_final.shape, y_train_tensors.shape)\n",
        "print(\"Testing Shape\", X_test_tensors_final.shape, y_test_tensors.shape)"
      ],
      "metadata": {
        "id": "gQvFijweudRM",
        "colab": {
          "base_uri": "https://localhost:8080/"
        },
        "outputId": "70b746d2-2612-430d-ce09-c1a7d5325951"
      },
      "execution_count": null,
      "outputs": [
        {
          "output_type": "stream",
          "name": "stdout",
          "text": [
            "Training Shape torch.Size([200, 1, 4]) torch.Size([200, 1])\n",
            "Testing Shape torch.Size([1310, 1, 4]) torch.Size([1310, 1])\n"
          ]
        }
      ]
    },
    {
      "cell_type": "code",
      "source": [
        "class LSTM_Model(nn.Module):\n",
        "  def __init__(self,num_classes, input_size, hidden_size, num_layers, seq_length) -> None:\n",
        "    super(LSTM_Model,self).__init__()\n",
        "    self.num_classes = num_classes\n",
        "    self.input_size = input_size\n",
        "    self.hidden_size = hidden_size\n",
        "    self.num_layers = num_layers\n",
        "    self.seq_lengh = seq_length\n",
        "    self.lstm = nn.LSTM(input_size=self.input_size, hidden_size=self.hidden_size,\n",
        "                          num_layers=self.num_layers, batch_first=True)\n",
        "    self.fc1 = nn.Linear(self.hidden_size,128)\n",
        "    self.fc2 = nn.Linear(128,self.num_classes)\n",
        "    self.relu = nn.ReLU()\n",
        "  \n",
        "  def forward(self, x):\n",
        "    h_0 = Variable(torch.zeros(self.num_layers, x.size(0), self.hidden_size)) #hidden state\n",
        "    c_0 = Variable(torch.zeros(self.num_layers, x.size(0), self.hidden_size)) #internal state\n",
        "    output, (hn, cn) = self.lstm(x, (h_0, c_0))\n",
        "    hn = hn.view(-1, self.hidden_size)\n",
        "    out = self.relu(hn)\n",
        "    out = self.fc1(out)\n",
        "    out = self.relu(out)\n",
        "    out = self.fc2(out)\n",
        "    return out"
      ],
      "metadata": {
        "id": "xoQ_xSdvukwz"
      },
      "execution_count": null,
      "outputs": []
    },
    {
      "cell_type": "code",
      "source": [
        "num_epochs = 10000\n",
        "learning_rate = 0.005\n",
        "\n",
        "input_size = 4 #number of features\n",
        "hidden_size = 2 #number of features in hidden state\n",
        "num_layers = 1 #number of stacked lstm layers\n",
        "\n",
        "num_classes = 1 #number of output classes\n",
        "seq_length = X_train_tensors_final.shape[1]"
      ],
      "metadata": {
        "id": "fY8nXDUzumUk"
      },
      "execution_count": null,
      "outputs": []
    },
    {
      "cell_type": "code",
      "source": [
        "modelZFOX = LSTM_Model(num_classes, input_size, hidden_size, num_layers, seq_length)"
      ],
      "metadata": {
        "id": "9YqO14tDurEp"
      },
      "execution_count": null,
      "outputs": []
    },
    {
      "cell_type": "markdown",
      "source": [
        "## **4. Usar MSE para el error**"
      ],
      "metadata": {
        "id": "dTzs4KBYk2wY"
      }
    },
    {
      "cell_type": "code",
      "source": [
        "criterion = nn.MSELoss()\n",
        "optimizer = torch.optim.Adam(modelZFOX.parameters(), lr=learning_rate)"
      ],
      "metadata": {
        "id": "ppa6fop7uuMV"
      },
      "execution_count": null,
      "outputs": []
    },
    {
      "cell_type": "code",
      "source": [
        "for epoch in range(num_epochs):\n",
        "  outputs = modelZFOX.forward(X_train_tensors_final) #forward pass\n",
        "  optimizer.zero_grad() #calculate the gradient, manually setting to 0\n",
        " \n",
        "  # obtain the loss function\n",
        "  loss = criterion(outputs, y_train_tensors)\n",
        " \n",
        "  loss.backward() #calculates the loss of the loss function\n",
        " \n",
        "  optimizer.step() #improve from loss, i.e backprop\n",
        "  if epoch % 100 == 0:\n",
        "    print(\"Epoch: %d, loss: %1.5f\" % (epoch, loss.item()))"
      ],
      "metadata": {
        "id": "IEGsjQYmux1x",
        "colab": {
          "base_uri": "https://localhost:8080/"
        },
        "outputId": "a35b298c-726b-4616-af8b-95cf7ea3b3c8"
      },
      "execution_count": null,
      "outputs": [
        {
          "output_type": "stream",
          "name": "stdout",
          "text": [
            "Epoch: 0, loss: 0.12910\n",
            "Epoch: 100, loss: 0.00650\n",
            "Epoch: 200, loss: 0.00650\n",
            "Epoch: 300, loss: 0.00650\n",
            "Epoch: 400, loss: 0.00650\n",
            "Epoch: 500, loss: 0.00650\n",
            "Epoch: 600, loss: 0.00649\n",
            "Epoch: 700, loss: 0.00649\n",
            "Epoch: 800, loss: 0.00649\n",
            "Epoch: 900, loss: 0.00649\n",
            "Epoch: 1000, loss: 0.00649\n",
            "Epoch: 1100, loss: 0.00649\n",
            "Epoch: 1200, loss: 0.00649\n",
            "Epoch: 1300, loss: 0.00649\n",
            "Epoch: 1400, loss: 0.00649\n",
            "Epoch: 1500, loss: 0.00649\n",
            "Epoch: 1600, loss: 0.00649\n",
            "Epoch: 1700, loss: 0.00649\n",
            "Epoch: 1800, loss: 0.00649\n",
            "Epoch: 1900, loss: 0.00649\n",
            "Epoch: 2000, loss: 0.00649\n",
            "Epoch: 2100, loss: 0.00649\n",
            "Epoch: 2200, loss: 0.00649\n",
            "Epoch: 2300, loss: 0.00648\n",
            "Epoch: 2400, loss: 0.00648\n",
            "Epoch: 2500, loss: 0.00648\n",
            "Epoch: 2600, loss: 0.00647\n",
            "Epoch: 2700, loss: 0.00647\n",
            "Epoch: 2800, loss: 0.00646\n",
            "Epoch: 2900, loss: 0.00650\n",
            "Epoch: 3000, loss: 0.00674\n",
            "Epoch: 3100, loss: 0.00641\n",
            "Epoch: 3200, loss: 0.00637\n",
            "Epoch: 3300, loss: 0.00634\n",
            "Epoch: 3400, loss: 0.00630\n",
            "Epoch: 3500, loss: 0.00637\n",
            "Epoch: 3600, loss: 0.00622\n",
            "Epoch: 3700, loss: 0.00620\n",
            "Epoch: 3800, loss: 0.00613\n",
            "Epoch: 3900, loss: 0.00618\n",
            "Epoch: 4000, loss: 0.00634\n",
            "Epoch: 4100, loss: 0.00599\n",
            "Epoch: 4200, loss: 0.00597\n",
            "Epoch: 4300, loss: 0.00613\n",
            "Epoch: 4400, loss: 0.00589\n",
            "Epoch: 4500, loss: 0.00588\n",
            "Epoch: 4600, loss: 0.00583\n",
            "Epoch: 4700, loss: 0.00628\n",
            "Epoch: 4800, loss: 0.00639\n",
            "Epoch: 4900, loss: 0.00607\n",
            "Epoch: 5000, loss: 0.00573\n",
            "Epoch: 5100, loss: 0.00572\n",
            "Epoch: 5200, loss: 0.00571\n",
            "Epoch: 5300, loss: 0.00568\n",
            "Epoch: 5400, loss: 0.00645\n",
            "Epoch: 5500, loss: 0.00565\n",
            "Epoch: 5600, loss: 0.00563\n",
            "Epoch: 5700, loss: 0.00563\n",
            "Epoch: 5800, loss: 0.00560\n",
            "Epoch: 5900, loss: 0.00558\n",
            "Epoch: 6000, loss: 0.00558\n",
            "Epoch: 6100, loss: 0.00556\n",
            "Epoch: 6200, loss: 0.00554\n",
            "Epoch: 6300, loss: 0.00553\n",
            "Epoch: 6400, loss: 0.00560\n",
            "Epoch: 6500, loss: 0.00560\n",
            "Epoch: 6600, loss: 0.00548\n",
            "Epoch: 6700, loss: 0.00557\n",
            "Epoch: 6800, loss: 0.00553\n",
            "Epoch: 6900, loss: 0.00552\n",
            "Epoch: 7000, loss: 0.00548\n",
            "Epoch: 7100, loss: 0.00543\n",
            "Epoch: 7200, loss: 0.00549\n",
            "Epoch: 7300, loss: 0.00538\n",
            "Epoch: 7400, loss: 0.00551\n",
            "Epoch: 7500, loss: 0.00536\n",
            "Epoch: 7600, loss: 0.00578\n",
            "Epoch: 7700, loss: 0.00534\n",
            "Epoch: 7800, loss: 0.00538\n",
            "Epoch: 7900, loss: 0.00538\n",
            "Epoch: 8000, loss: 0.00568\n",
            "Epoch: 8100, loss: 0.00537\n",
            "Epoch: 8200, loss: 0.00555\n",
            "Epoch: 8300, loss: 0.00525\n",
            "Epoch: 8400, loss: 0.00530\n",
            "Epoch: 8500, loss: 0.00524\n",
            "Epoch: 8600, loss: 0.00526\n",
            "Epoch: 8700, loss: 0.00538\n",
            "Epoch: 8800, loss: 0.00520\n",
            "Epoch: 8900, loss: 0.00525\n",
            "Epoch: 9000, loss: 0.00545\n",
            "Epoch: 9100, loss: 0.00516\n",
            "Epoch: 9200, loss: 0.00514\n",
            "Epoch: 9300, loss: 0.00513\n",
            "Epoch: 9400, loss: 0.00514\n",
            "Epoch: 9500, loss: 0.00517\n",
            "Epoch: 9600, loss: 0.00510\n",
            "Epoch: 9700, loss: 0.00508\n",
            "Epoch: 9800, loss: 0.00509\n",
            "Epoch: 9900, loss: 0.00507\n"
          ]
        }
      ]
    },
    {
      "cell_type": "code",
      "source": [
        "#todos los Xs\n",
        "df_X_ss = ss.transform(df.iloc[:, :-1]) #old transformers\n",
        "df_y_mm = mm.transform(df.iloc[:, -1:]) #old transformers\n",
        "\n",
        "df_X_ss = Variable(torch.Tensor(df_X_ss)) #converting to Tensors\n",
        "df_y_mm = Variable(torch.Tensor(df_y_mm))\n",
        "#reshaping the dataset\n",
        "df_X_ss = torch.reshape(df_X_ss, (df_X_ss.shape[0], 1, df_X_ss.shape[1]))"
      ],
      "metadata": {
        "id": "Q3Bb1DZhCCQS"
      },
      "execution_count": null,
      "outputs": []
    },
    {
      "cell_type": "markdown",
      "source": [
        "## **Grafique real vs predecido en el tiempo**"
      ],
      "metadata": {
        "id": "PazGsN2UiUnf"
      }
    },
    {
      "cell_type": "code",
      "source": [
        "import matplotlib.pyplot as plt             #visualisation\n",
        "\n",
        "train_predict = modelZFOX(df_X_ss)#prediccion\n",
        "\n",
        "data_predict = train_predict.data.numpy() #convertir de tensor a numpy \n",
        "dataY_plot = df_y_mm.data.numpy()\n",
        "\n",
        "data_predict = mm.inverse_transform(data_predict) #reverse transformation\n",
        "dataY_plot = mm.inverse_transform(dataY_plot)\n",
        "plt.figure(figsize=(10,5)) #plotting\n",
        "plt.axvline(x=20, c='r', linestyle='--') #size of the training set\n",
        "\n",
        "plt.plot(dataY_plot, label='Datos Reales') #actual plot\n",
        "plt.plot(data_predict, label='Pronostico') #predicted plot\n",
        "plt.title('Time-Series Prediction Empresas de Ecuador')\n",
        "plt.legend()\n",
        "plt.show()"
      ],
      "metadata": {
        "id": "O59lXjFFgwoc",
        "colab": {
          "base_uri": "https://localhost:8080/",
          "height": 337
        },
        "outputId": "804c740f-4a91-4297-b6ed-6e1b1fc8326b"
      },
      "execution_count": null,
      "outputs": [
        {
          "output_type": "display_data",
          "data": {
            "text/plain": [
              "<Figure size 720x360 with 1 Axes>"
            ],
            "image/png": "[encoded data removed]"
          },
          "metadata": {}
        }
      ]
    },
    {
      "cell_type": "code",
      "source": [
        "import datetime\n",
        "def str_to_datetime(s):\n",
        "  split = s.split('-')\n",
        "  year, month, day = int(split[0]), int(split[1]), int(split[2])\n",
        "  return datetime.datetime(year=year, month=month, day=day)\n",
        "\n",
        "datetime_object = str_to_datetime('2017-03-19')\n",
        "datetime_object"
      ],
      "metadata": {
        "colab": {
          "base_uri": "https://localhost:8080/"
        },
        "id": "TNcWlCuDaZtj",
        "outputId": "dd0027ac-2129-4890-b65d-83e3c96952cc"
      },
      "execution_count": null,
      "outputs": [
        {
          "output_type": "execute_result",
          "data": {
            "text/plain": [
              "datetime.datetime(2017, 3, 19, 0, 0)"
            ]
          },
          "metadata": {},
          "execution_count": 305
        }
      ]
    },
    {
      "cell_type": "code",
      "source": [
        "import numpy as np\n",
        "\n",
        "def df_to_windowed_df(dataframe, first_date_str, last_date_str, n=3):\n",
        "  first_date = str_to_datetime(first_date_str)\n",
        "  last_date  = str_to_datetime(last_date_str)\n",
        "\n",
        "  target_date = first_date\n",
        "  \n",
        "  dates = []\n",
        "  X, Y = [], []\n",
        "\n",
        "  last_time = False\n",
        "  while True:\n",
        "    df_subset = dataframe.loc[:target_date].tail(n+1)\n",
        "    \n",
        "    if len(df_subset) != n+1:\n",
        "      print(f'Error: Window of size {n} is too large for date {target_date}')\n",
        "      return\n",
        "\n",
        "    values = df_subset['Close'].to_numpy()\n",
        "    x, y = values[:-1], values[-1]\n",
        "\n",
        "    dates.append(target_date)\n",
        "    X.append(x)\n",
        "    Y.append(y)\n",
        "\n",
        "    next_week = dataframe.loc[target_date:target_date+datetime.timedelta(days=7)]\n",
        "    next_datetime_str = str(next_week.head(2).tail(1).index.values[0])\n",
        "    next_date_str = next_datetime_str.split('T')[0]\n",
        "    year_month_day = next_date_str.split('-')\n",
        "    year, month, day = year_month_day\n",
        "    next_date = datetime.datetime(day=int(day), month=int(month), year=int(year))\n",
        "    \n",
        "    if last_time:\n",
        "      break\n",
        "    \n",
        "    target_date = next_date\n",
        "\n",
        "    if target_date == last_date:\n",
        "      last_time = True\n",
        "    \n",
        "  ret_df = pd.DataFrame({})\n",
        "  ret_df['Target Date'] = dates\n",
        "  \n",
        "  X = np.array(X)\n",
        "  for i in range(0, n):\n",
        "    X[:, i]\n",
        "    ret_df[f'Target-{n-i}'] = X[:, i]\n",
        "  \n",
        "  ret_df['Target'] = Y\n",
        "\n",
        "  return ret_df\n",
        "\n",
        "windowed_df = df_to_windowed_df(df, \n",
        "                                '2017-03-25', \n",
        "                                '2022-03-23', \n",
        "                                n=3)\n",
        "windowed_df"
      ],
      "metadata": {
        "colab": {
          "base_uri": "https://localhost:8080/",
          "height": 424
        },
        "id": "fsU9d3u0HdYj",
        "outputId": "fff85f99-52b2-4e87-fb89-23df00341228"
      },
      "execution_count": null,
      "outputs": [
        {
          "output_type": "execute_result",
          "data": {
            "text/plain": [
              "     Target Date   Target-3   Target-2   Target-1     Target\n",
              "0     2017-03-25   64209999   65029999   64870003   64980003\n",
              "1     2017-03-28   64870003   64980003   65099998   65290001\n",
              "2     2017-03-29   64980003   65099998   65290001   65470001\n",
              "3     2017-03-30   65099998   65290001   65470001   65709999\n",
              "4     2017-03-31   65290001   65470001   65709999   65860001\n",
              "...          ...        ...        ...        ...        ...\n",
              "1253  2022-03-17  276440002  287149994  294390015  295220001\n",
              "1254  2022-03-18  287149994  294390015  295220001  300429993\n",
              "1255  2022-03-21  294390015  295220001  300429993  299160004\n",
              "1256  2022-03-22  295220001  300429993  299160004  304059998\n",
              "1257  2022-03-23  300429993  299160004  304059998  299489990\n",
              "\n",
              "[1258 rows x 5 columns]"
            ],
            "text/html": [
              "\n",
              "  <div id=\"df-f7ee419d-822f-4767-a971-0c6f923cf648\">\n",
              "    <div class=\"colab-df-container\">\n",
              "      <div>\n",
              "<style scoped>\n",
              "    .dataframe tbody tr th:only-of-type {\n",
              "        vertical-align: middle;\n",
              "    }\n",
              "\n",
              "    .dataframe tbody tr th {\n",
              "        vertical-align: top;\n",
              "    }\n",
              "\n",
              "    .dataframe thead th {\n",
              "        text-align: right;\n",
              "    }\n",
              "</style>\n",
              "<table border=\"1\" class=\"dataframe\">\n",
              "  <thead>\n",
              "    <tr style=\"text-align: right;\">\n",
              "      <th></th>\n",
              "      <th>Target Date</th>\n",
              "      <th>Target-3</th>\n",
              "      <th>Target-2</th>\n",
              "      <th>Target-1</th>\n",
              "      <th>Target</th>\n",
              "    </tr>\n",
              "  </thead>\n",
              "  <tbody>\n",
              "    <tr>\n",
              "      <th>0</th>\n",
              "      <td>2017-03-25</td>\n",
              "      <td>64209999</td>\n",
              "      <td>65029999</td>\n",
              "      <td>64870003</td>\n",
              "      <td>64980003</td>\n",
              "    </tr>\n",
              "    <tr>\n",
              "      <th>1</th>\n",
              "      <td>2017-03-28</td>\n",
              "      <td>64870003</td>\n",
              "      <td>64980003</td>\n",
              "      <td>65099998</td>\n",
              "      <td>65290001</td>\n",
              "    </tr>\n",
              "    <tr>\n",
              "      <th>2</th>\n",
              "      <td>2017-03-29</td>\n",
              "      <td>64980003</td>\n",
              "      <td>65099998</td>\n",
              "      <td>65290001</td>\n",
              "      <td>65470001</td>\n",
              "    </tr>\n",
              "    <tr>\n",
              "      <th>3</th>\n",
              "      <td>2017-03-30</td>\n",
              "      <td>65099998</td>\n",
              "      <td>65290001</td>\n",
              "      <td>65470001</td>\n",
              "      <td>65709999</td>\n",
              "    </tr>\n",
              "    <tr>\n",
              "      <th>4</th>\n",
              "      <td>2017-03-31</td>\n",
              "      <td>65290001</td>\n",
              "      <td>65470001</td>\n",
              "      <td>65709999</td>\n",
              "      <td>65860001</td>\n",
              "    </tr>\n",
              "    <tr>\n",
              "      <th>...</th>\n",
              "      <td>...</td>\n",
              "      <td>...</td>\n",
              "      <td>...</td>\n",
              "      <td>...</td>\n",
              "      <td>...</td>\n",
              "    </tr>\n",
              "    <tr>\n",
              "      <th>1253</th>\n",
              "      <td>2022-03-17</td>\n",
              "      <td>276440002</td>\n",
              "      <td>287149994</td>\n",
              "      <td>294390015</td>\n",
              "      <td>295220001</td>\n",
              "    </tr>\n",
              "    <tr>\n",
              "      <th>1254</th>\n",
              "      <td>2022-03-18</td>\n",
              "      <td>287149994</td>\n",
              "      <td>294390015</td>\n",
              "      <td>295220001</td>\n",
              "      <td>300429993</td>\n",
              "    </tr>\n",
              "    <tr>\n",
              "      <th>1255</th>\n",
              "      <td>2022-03-21</td>\n",
              "      <td>294390015</td>\n",
              "      <td>295220001</td>\n",
              "      <td>300429993</td>\n",
              "      <td>299160004</td>\n",
              "    </tr>\n",
              "    <tr>\n",
              "      <th>1256</th>\n",
              "      <td>2022-03-22</td>\n",
              "      <td>295220001</td>\n",
              "      <td>300429993</td>\n",
              "      <td>299160004</td>\n",
              "      <td>304059998</td>\n",
              "    </tr>\n",
              "    <tr>\n",
              "      <th>1257</th>\n",
              "      <td>2022-03-23</td>\n",
              "      <td>300429993</td>\n",
              "      <td>299160004</td>\n",
              "      <td>304059998</td>\n",
              "      <td>299489990</td>\n",
              "    </tr>\n",
              "  </tbody>\n",
              "</table>\n",
              "<p>1258 rows × 5 columns</p>\n",
              "</div>\n",
              "      <button class=\"colab-df-convert\" onclick=\"convertToInteractive('df-f7ee419d-822f-4767-a971-0c6f923cf648')\"\n",
              "              title=\"Convert this dataframe to an interactive table.\"\n",
              "              style=\"display:none;\">\n",
              "        \n",
              "  <svg xmlns=\"http://www.w3.org/2000/svg\" height=\"24px\"viewBox=\"0 0 24 24\"\n",
              "       width=\"24px\">\n",
              "    <path d=\"M0 0h24v24H0V0z\" fill=\"none\"/>\n",
              "    <path d=\"M18.56 5.44l.94 2.06.94-2.06 2.06-.94-2.06-.94-.94-2.06-.94 2.06-2.06.94zm-11 1L8.5 8.5l.94-2.06 2.06-.94-2.06-.94L8.5 2.5l-.94 2.06-2.06.94zm10 10l.94 2.06.94-2.06 2.06-.94-2.06-.94-.94-2.06-.94 2.06-2.06.94z\"/><path d=\"M17.41 7.96l-1.37-1.37c-.4-.4-.92-.59-1.43-.59-.52 0-1.04.2-1.43.59L10.3 9.45l-7.72 7.72c-.78.78-.78 2.05 0 2.83L4 21.41c.39.39.9.59 1.41.59.51 0 1.02-.2 1.41-.59l7.78-7.78 2.81-2.81c.8-.78.8-2.07 0-2.86zM5.41 20L4 18.59l7.72-7.72 1.47 1.35L5.41 20z\"/>\n",
              "  </svg>\n",
              "      </button>\n",
              "      \n",
              "  <style>\n",
              "    .colab-df-container {\n",
              "      display:flex;\n",
              "      flex-wrap:wrap;\n",
              "      gap: 12px;\n",
              "    }\n",
              "\n",
              "    .colab-df-convert {\n",
              "      background-color: #E8F0FE;\n",
              "      border: none;\n",
              "      border-radius: 50%;\n",
              "      cursor: pointer;\n",
              "      display: none;\n",
              "      fill: #1967D2;\n",
              "      height: 32px;\n",
              "      padding: 0 0 0 0;\n",
              "      width: 32px;\n",
              "    }\n",
              "\n",
              "    .colab-df-convert:hover {\n",
              "      background-color: #E2EBFA;\n",
              "      box-shadow: 0px 1px 2px rgba(60, 64, 67, 0.3), 0px 1px 3px 1px rgba(60, 64, 67, 0.15);\n",
              "      fill: #174EA6;\n",
              "    }\n",
              "\n",
              "    [theme=dark] .colab-df-convert {\n",
              "      background-color: #3B4455;\n",
              "      fill: #D2E3FC;\n",
              "    }\n",
              "\n",
              "    [theme=dark] .colab-df-convert:hover {\n",
              "      background-color: #434B5C;\n",
              "      box-shadow: 0px 1px 3px 1px rgba(0, 0, 0, 0.15);\n",
              "      filter: drop-shadow(0px 1px 2px rgba(0, 0, 0, 0.3));\n",
              "      fill: #FFFFFF;\n",
              "    }\n",
              "  </style>\n",
              "\n",
              "      <script>\n",
              "        const buttonEl =\n",
              "          document.querySelector('#df-f7ee419d-822f-4767-a971-0c6f923cf648 button.colab-df-convert');\n",
              "        buttonEl.style.display =\n",
              "          google.colab.kernel.accessAllowed ? 'block' : 'none';\n",
              "\n",
              "        async function convertToInteractive(key) {\n",
              "          const element = document.querySelector('#df-f7ee419d-822f-4767-a971-0c6f923cf648');\n",
              "          const dataTable =\n",
              "            await google.colab.kernel.invokeFunction('convertToInteractive',\n",
              "                                                     [key], {});\n",
              "          if (!dataTable) return;\n",
              "\n",
              "          const docLinkHtml = 'Like what you see? Visit the ' +\n",
              "            '<a target=\"_blank\" href=https://colab.research.google.com/notebooks/data_table.ipynb>data table notebook</a>'\n",
              "            + ' to learn more about interactive tables.';\n",
              "          element.innerHTML = '';\n",
              "          dataTable['output_type'] = 'display_data';\n",
              "          await google.colab.output.renderOutput(dataTable, element);\n",
              "          const docLink = document.createElement('div');\n",
              "          docLink.innerHTML = docLinkHtml;\n",
              "          element.appendChild(docLink);\n",
              "        }\n",
              "      </script>\n",
              "    </div>\n",
              "  </div>\n",
              "  "
            ]
          },
          "metadata": {},
          "execution_count": 309
        }
      ]
    },
    {
      "cell_type": "code",
      "source": [
        "def windowed_df_to_date_X_y(windowed_dataframe):\n",
        "  df_as_np = windowed_dataframe.to_numpy()\n",
        "\n",
        "  dates = df_as_np[:, 0]\n",
        "\n",
        "  middle_matrix = df_as_np[:, 1:-1]\n",
        "  X = middle_matrix.reshape((len(dates), middle_matrix.shape[1], 1))\n",
        "\n",
        "  Y = df_as_np[:, -1]\n",
        "\n",
        "  return dates, X.astype(np.float32), Y.astype(np.float32)\n",
        "\n",
        "dates, X, y = windowed_df_to_date_X_y(windowed_df)\n",
        "\n",
        "dates.shape, X.shape, y.shape"
      ],
      "metadata": {
        "colab": {
          "base_uri": "https://localhost:8080/"
        },
        "id": "uD17zIbaIZ6n",
        "outputId": "68abc698-3c5d-46b6-e005-fe807576d218"
      },
      "execution_count": null,
      "outputs": [
        {
          "output_type": "execute_result",
          "data": {
            "text/plain": [
              "((1258,), (1258, 3, 1), (1258,))"
            ]
          },
          "metadata": {},
          "execution_count": 310
        }
      ]
    },
    {
      "cell_type": "code",
      "source": [
        "q_80 = int(len(dates) * .8)\n",
        "q_90 = int(len(dates) * .9)\n",
        "\n",
        "dates_train, X_train, y_train = dates[:q_80], X[:q_80], y[:q_80]\n",
        "\n",
        "dates_val, X_val, y_val = dates[q_80:q_90], X[q_80:q_90], y[q_80:q_90]\n",
        "dates_test, X_test, y_test = dates[q_90:], X[q_90:], y[q_90:]\n",
        "\n",
        "plt.plot(dates_train, y_train)\n",
        "plt.plot(dates_val, y_val)\n",
        "plt.plot(dates_test, y_test)\n",
        "\n",
        "plt.legend(['Train', 'Validation', 'Test'])"
      ],
      "metadata": {
        "colab": {
          "base_uri": "https://localhost:8080/",
          "height": 293
        },
        "id": "LPHWfwZeMZSS",
        "outputId": "185f6141-d8f7-4472-f58d-3757be3f8d9e"
      },
      "execution_count": null,
      "outputs": [
        {
          "output_type": "execute_result",
          "data": {
            "text/plain": [
              "<matplotlib.legend.Legend at 0x7f53640681f0>"
            ]
          },
          "metadata": {},
          "execution_count": 311
        },
        {
          "output_type": "display_data",
          "data": {
            "text/plain": [
              "<Figure size 432x288 with 1 Axes>"
            ],
            "image/png": "[encoded data removed]"
          },
          "metadata": {}
        }
      ]
    }
  ]
}